{
 "cells": [
  {
   "cell_type": "code",
   "execution_count": 9,
   "metadata": {},
   "outputs": [
    {
     "data": {
      "text/plain": [
       "Artwork ID            130262\n",
       "Title                 130210\n",
       "Artist ID             128802\n",
       "Name                  128802\n",
       "Date                  127950\n",
       "Medium                118343\n",
       "Dimensions            118799\n",
       "Acquisition Date      124799\n",
       "Credit                127192\n",
       "Catalogue             130262\n",
       "Department            130262\n",
       "Classification        130262\n",
       "Object Number         130262\n",
       "Diameter (cm)           1399\n",
       "Circumference (cm)        10\n",
       "Height (cm)           111893\n",
       "Length (cm)              736\n",
       "Width (cm)            111003\n",
       "Depth (cm)             11443\n",
       "Weight (kg)              298\n",
       "Duration (s)            3084\n",
       "dtype: int64"
      ]
     },
     "execution_count": 9,
     "metadata": {},
     "output_type": "execute_result"
    }
   ],
   "source": [
    "import pandas as pd\n",
    "df_artists = pd.read_csv('../../data/raw/artists.csv')\n",
    "df_artworks = pd.read_csv('../../data/raw/artworks.csv')\n",
    "#test\n",
    "df_artists.count()\n",
    "df_artworks.count()"
   ]
  },
  {
   "cell_type": "code",
   "execution_count": null,
   "metadata": {},
   "outputs": [],
   "source": []
  },
  {
   "cell_type": "code",
   "execution_count": null,
   "metadata": {},
   "outputs": [],
   "source": []
  }
 ],
 "metadata": {
  "kernelspec": {
   "display_name": "Python 3",
   "language": "python",
   "name": "python3"
  },
  "language_info": {
   "codemirror_mode": {
    "name": "ipython",
    "version": 3
   },
   "file_extension": ".py",
   "mimetype": "text/x-python",
   "name": "python",
   "nbconvert_exporter": "python",
   "pygments_lexer": "ipython3",
   "version": "3.8.5"
  }
 },
 "nbformat": 4,
 "nbformat_minor": 4
}
